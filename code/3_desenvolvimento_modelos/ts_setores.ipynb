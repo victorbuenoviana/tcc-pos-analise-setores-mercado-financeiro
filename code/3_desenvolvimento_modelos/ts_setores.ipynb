{
 "cells": [
  {
   "cell_type": "code",
   "execution_count": 1,
   "metadata": {},
   "outputs": [],
   "source": [
    "import pandas as pd\n",
    "import numpy as np\n",
    "from statsmodels.tsa.seasonal import seasonal_decompose"
   ]
  },
  {
   "cell_type": "markdown",
   "metadata": {},
   "source": [
    "Agrupando os ações por setor de atuação"
   ]
  },
  {
   "cell_type": "code",
   "execution_count": 2,
   "metadata": {},
   "outputs": [],
   "source": [
    "df_hist_cot_norm = pd.read_csv(\"C:\\\\Users\\\\victo\\\\OneDrive\\\\Documentos\\\\github\\\\tcc-analise-setores-mercado-financeiro\\\\reports\\\\df_hist_cot_norm.csv\")\n",
    "df_hist_cot_norm[\"Date\"] = pd.to_datetime(df_hist_cot_norm[\"Date\"])\n",
    "df_hist_cot_norm.set_index(\"Date\", inplace=True)"
   ]
  },
  {
   "cell_type": "code",
   "execution_count": 3,
   "metadata": {},
   "outputs": [],
   "source": [
    "# Listando os setores de mercado\n",
    "df_setores = pd.read_csv(\"C:\\\\Users\\\\victo\\\\OneDrive\\\\Documentos\\\\github\\\\tcc-analise-setores-mercado-financeiro\\\\reports\\\\info_empresas.csv\")[[\"tickers\",\"setor\"]]\n",
    "df_setores.set_index(\"tickers\", inplace=True)\n",
    "lista_setores = list(set(df_setores[\"setor\"]))"
   ]
  },
  {
   "cell_type": "code",
   "execution_count": 4,
   "metadata": {},
   "outputs": [],
   "source": [
    "for setor in lista_setores:\n",
    "    \n",
    "    df_setor = pd.DataFrame(index=df_hist_cot_norm.index)\n",
    "    \n",
    "    for ticker in df_hist_cot_norm.columns:\n",
    "    \n",
    "        if df_setores.loc[ticker][\"setor\"] == setor:\n",
    "            \n",
    "            df_setor[ticker] = df_hist_cot_norm[ticker]\n",
    "    \n",
    "    df_setor.to_csv(f\"C:\\\\Users\\\\victo\\\\OneDrive\\\\Documentos\\\\github\\\\tcc-analise-setores-mercado-financeiro\\\\reports\\\\hist_cot_norm_setores\\\\{setor}.csv\")"
   ]
  },
  {
   "cell_type": "markdown",
   "metadata": {},
   "source": [
    "Gerando um df com o histórico de variação média de cada setor"
   ]
  },
  {
   "cell_type": "code",
   "execution_count": 5,
   "metadata": {},
   "outputs": [],
   "source": [
    "data_inicial = '2013-01-01'\n",
    "data_final = '2023-10-01'\n",
    "datas = pd.date_range(start=data_inicial, end=data_final, freq='D')\n",
    "df_media_setores = pd.DataFrame({'Date': datas}).set_index('Date')\n",
    "\n",
    "for setor in lista_setores:\n",
    "\n",
    "    df_hist_cot_ticker = pd.read_csv(\n",
    "        f\"C:\\\\Users\\\\victo\\\\OneDrive\\\\Documentos\\\\github\\\\tcc-analise-setores-mercado-financeiro\\\\reports\\\\hist_cot_norm_setores\\\\{setor}.csv\", \n",
    "        index_col=\"Date\")\n",
    "    \n",
    "    for data in df_hist_cot_ticker.index:\n",
    "        \n",
    "        soma_linha = 0\n",
    "        cont_tickers_somados = 0\n",
    "        \n",
    "        for ticker in df_hist_cot_ticker.columns:\n",
    "            \n",
    "            cond_calc_media = df_hist_cot_ticker.loc[data, ticker] !=0 and not np.isnan(df_hist_cot_ticker.loc[data, ticker])\n",
    "            if cond_calc_media:\n",
    "                \n",
    "                soma_linha += df_hist_cot_ticker.loc[data, ticker]\n",
    "                cont_tickers_somados += 1\n",
    "        \n",
    "        if cont_tickers_somados > 0:\n",
    "            df_hist_cot_ticker.loc[data, \"media\"] = soma_linha / cont_tickers_somados \n",
    "    \n",
    "    for data in df_hist_cot_ticker.index:\n",
    "        df_media_setores.loc[data, setor] = df_hist_cot_ticker.loc[data, \"media\"]"
   ]
  },
  {
   "cell_type": "markdown",
   "metadata": {},
   "source": [
    "Trantando valores faltantes"
   ]
  },
  {
   "cell_type": "code",
   "execution_count": 6,
   "metadata": {},
   "outputs": [],
   "source": [
    "# Removendo datas sem cotação (finais de semana, feriados, ...)\n",
    "df_media_setores.dropna(inplace=True, how=\"all\")\n",
    "\n",
    "# Tratando datas anteriores à data de referencia (data inicial de amostragem)\n",
    "for setor in df_media_setores.columns:\n",
    "\n",
    "    data_ref = df_media_setores[setor].first_valid_index()\n",
    "\n",
    "    for data in df_media_setores.index:\n",
    "\n",
    "        if data < data_ref:\n",
    "\n",
    "            df_media_setores.loc[data, setor] = 0\n",
    "\n",
    "# Tratando datas com cotações faltantes\n",
    "for setor in df_media_setores.columns:\n",
    "    df_media_setores[f\"{setor}\"].ffill(inplace=True)"
   ]
  },
  {
   "cell_type": "markdown",
   "metadata": {},
   "source": [
    "Exportando os histórios das médias das cotações normalizadas de cada setor"
   ]
  },
  {
   "cell_type": "code",
   "execution_count": 7,
   "metadata": {},
   "outputs": [],
   "source": [
    "df_media_setores.to_csv(f\"C:\\\\Users\\\\victo\\\\OneDrive\\\\Documentos\\\\github\\\\tcc-analise-setores-mercado-financeiro\\\\reports\\\\df_media_setores.csv\", index=True)"
   ]
  },
  {
   "cell_type": "markdown",
   "metadata": {},
   "source": [
    "Decompondo as séries temporais das médias das cotações normalizadas de cada setor"
   ]
  },
  {
   "cell_type": "code",
   "execution_count": 8,
   "metadata": {},
   "outputs": [],
   "source": [
    "df_tend_media_setores = pd.DataFrame(index = df_media_setores.index)\n",
    "df_saz_media_setores = pd.DataFrame(index = df_media_setores.index)\n",
    "df_resid_media_setores = pd.DataFrame(index = df_media_setores.index)\n",
    "\n",
    "for setor in df_media_setores.columns:\n",
    "\n",
    "    # 22 dias de cotação por mês / 252 dias de cotação por ano / df_media_segm.shape[0]//2 maior período possível para decomposição da base de dados\n",
    "    \n",
    "    df_tend_media_setores[f\"{setor}\"] = seasonal_decompose(df_media_setores[f\"{setor}\"],\n",
    "                                                period = 252,\n",
    "                                                model = \"additive\").trend\n",
    "    df_saz_media_setores[f\"{setor}\"] = seasonal_decompose(df_media_setores[f\"{setor}\"],\n",
    "                                                period = 252,\n",
    "                                                model = \"additive\").seasonal\n",
    "    df_resid_media_setores[f\"{setor}\"] = seasonal_decompose(df_media_setores[f\"{setor}\"],\n",
    "                                                period = 252,\n",
    "                                                model = \"additive\").resid\n",
    "\n",
    "df_tend_media_setores.dropna(inplace=True)\n",
    "df_saz_media_setores.dropna(inplace=True)\n",
    "df_resid_media_setores.dropna(inplace=True)"
   ]
  },
  {
   "cell_type": "code",
   "execution_count": 9,
   "metadata": {},
   "outputs": [],
   "source": [
    "df_tend_media_setores.to_csv(\"C:\\\\Users\\\\victo\\\\OneDrive\\\\Documentos\\\\github\\\\tcc-analise-setores-mercado-financeiro\\\\reports\\\\df_tend_media_setores.csv\")\n",
    "df_saz_media_setores.to_csv(\"C:\\\\Users\\\\victo\\\\OneDrive\\\\Documentos\\\\github\\\\tcc-analise-setores-mercado-financeiro\\\\reports\\\\df_saz_media_setores.csv\")\n",
    "df_resid_media_setores.to_csv(\"C:\\\\Users\\\\victo\\\\OneDrive\\\\Documentos\\\\github\\\\tcc-analise-setores-mercado-financeiro\\\\reports\\\\df_resid_media_setores.csv\")"
   ]
  },
  {
   "cell_type": "markdown",
   "metadata": {},
   "source": [
    "Gerando a matriz de correlação entre os setores"
   ]
  },
  {
   "cell_type": "code",
   "execution_count": null,
   "metadata": {},
   "outputs": [],
   "source": [
    "mtx_corr_setores = df_media_setores.corr()\n",
    "mtx_corr_setores.to_csv(\"C:\\\\Users\\\\victo\\\\OneDrive\\\\Documentos\\\\github\\\\tcc-analise-setores-mercado-financeiro\\\\reports\\\\mtx_corr_setores.csv\")"
   ]
  },
  {
   "cell_type": "markdown",
   "metadata": {},
   "source": [
    "Gerando a matriz de correlação entre as sazonalidades da médias dos setores"
   ]
  },
  {
   "cell_type": "code",
   "execution_count": null,
   "metadata": {},
   "outputs": [],
   "source": [
    "mtx_corr_saz_setores = df_saz_media_setores.corr()\n",
    "mtx_corr_saz_setores.to_csv(\"C:\\\\Users\\\\victo\\\\OneDrive\\\\Documentos\\\\github\\\\tcc-analise-setores-mercado-financeiro\\\\reports\\\\mtx_corr_saz_setores.csv\")"
   ]
  }
 ],
 "metadata": {
  "kernelspec": {
   "display_name": "venv",
   "language": "python",
   "name": "python3"
  },
  "language_info": {
   "codemirror_mode": {
    "name": "ipython",
    "version": 3
   },
   "file_extension": ".py",
   "mimetype": "text/x-python",
   "name": "python",
   "nbconvert_exporter": "python",
   "pygments_lexer": "ipython3",
   "version": "3.11.4"
  }
 },
 "nbformat": 4,
 "nbformat_minor": 2
}
