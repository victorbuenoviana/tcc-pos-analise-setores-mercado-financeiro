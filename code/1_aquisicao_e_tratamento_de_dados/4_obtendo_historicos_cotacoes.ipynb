{
 "cells": [
  {
   "cell_type": "code",
   "execution_count": null,
   "metadata": {},
   "outputs": [],
   "source": [
    "# ! pip install matplotlib\n",
    "# ! pip install yfinance"
   ]
  },
  {
   "cell_type": "markdown",
   "metadata": {},
   "source": [
    "Importando bibliotencas"
   ]
  },
  {
   "cell_type": "code",
   "execution_count": null,
   "metadata": {},
   "outputs": [],
   "source": [
    "import pandas as pd\n",
    "import yfinance as yf"
   ]
  },
  {
   "cell_type": "markdown",
   "metadata": {},
   "source": [
    "Importando dados das empresas"
   ]
  },
  {
   "cell_type": "code",
   "execution_count": null,
   "metadata": {},
   "outputs": [],
   "source": [
    "df_segm_merc_empr = pd.read_csv(\"C:\\\\Users\\\\victo\\\\OneDrive\\\\Documentos\\\\github\\\\tcc-analise-setores-mercado-financeiro\\\\data\\\\info_empresas.csv\")"
   ]
  },
  {
   "cell_type": "markdown",
   "metadata": {},
   "source": [
    "Obtendo Dados"
   ]
  },
  {
   "cell_type": "code",
   "execution_count": null,
   "metadata": {},
   "outputs": [],
   "source": [
    "# O fechamento ajustado é o preço de fechamento após os ajustes para todos os desdobramentos e distribuições de dividendos aplicáveis. Os dados são ajustados usando multiplicadores de desdobramentos e dividendos apropriados, aderindo aos Centro de pesquisa de preços de títulos (CRSP) padrões.\n",
    "\n",
    "# https://www.crsp.org/\n",
    "\n",
    "# Benchmark\n",
    "# Índice Bovespa é o indicador do desempenho médio das cotações das ações negociadas na B3, formado pelas ações com maior volume negociado nos últimos meses.\n",
    "# fonte: https://pt.wikipedia.org/wiki/Ibovespa"
   ]
  },
  {
   "cell_type": "code",
   "execution_count": null,
   "metadata": {},
   "outputs": [],
   "source": [
    "# Obtendo historico de variação do Ibov\n",
    "hist_ibov = yf.download(\"^BVSP\", start=\"2013-01-01\", end=\"2023-10-01\")[\"Adj Close\"]\n",
    "hist_ibov.to_csv(\"C:\\\\Users\\\\victo\\\\OneDrive\\\\Documentos\\\\github\\\\tcc-analise-setores-mercado-financeiro\\\\data\\\\hist_cotacoes\\\\hist_ibov.csv\", \n",
    "                 index=True)"
   ]
  },
  {
   "cell_type": "code",
   "execution_count": null,
   "metadata": {},
   "outputs": [],
   "source": [
    "lista_tickers_verificacao = []\n",
    "\n",
    "for ticker in df_segm_merc_empr[\"tickers\"]:\n",
    "\n",
    "    # Obtendo histórico de valores de fechamento ajustado e de volume de trasações de 2013-01-01 a 2023-10-01\n",
    "    hist = yf.download(f\"{ticker}.SA\", start=\"2013-01-01\", end=\"2023-10-01\")\n",
    "    hist = hist[[\"Adj Close\", \"Volume\"]]\n",
    "\n",
    "    # Validando confiabilidade dos dados obtidos\n",
    "    cond_hist_obtido = hist.shape[0] > 0\n",
    "    cond_sem_nulos = hist.isna().sum().iloc[0] == 0 and hist.isna().sum().iloc[1] == 0\n",
    "    cond_aprov_hist = cond_hist_obtido == True and cond_sem_nulos ==True\n",
    "    if cond_aprov_hist:\n",
    "        # Exportando histórico validado\n",
    "        hist.to_csv(f\"C:\\\\Users\\\\victo\\\\OneDrive\\\\Documentos\\\\github\\\\tcc-analise-setores-mercado-financeiro\\\\data\\\\hist_cotacoes\\\\hist_{ticker}.csv\",\n",
    "                    index=True)\n",
    "    else:\n",
    "        # Adicionado ticker sem histórico validado à lista para tratamento\n",
    "        lista_tickers_verificacao.append(ticker)"
   ]
  },
  {
   "cell_type": "code",
   "execution_count": null,
   "metadata": {},
   "outputs": [],
   "source": [
    "if len(lista_tickers_verificacao) > 0:\n",
    "        # Imprimindo lista de ticker para tratamento\n",
    "        print(\"Verificar histórico de cotações:\")\n",
    "        for ticker in lista_tickers_verificacao:\n",
    "            print(ticker)\n",
    "else:\n",
    "    print(\"Todas os dados foram baixados e exportados com sucesso.\")"
   ]
  },
  {
   "cell_type": "code",
   "execution_count": null,
   "metadata": {},
   "outputs": [],
   "source": [
    "hist_APTI4 = yf.download(\"APTI4.SA\", start=\"2013-01-01\", end=\"2023-10-01\")\n",
    "hist_APTI4 = hist_APTI4[[\"Adj Close\", \"Volume\"]]"
   ]
  },
  {
   "cell_type": "code",
   "execution_count": null,
   "metadata": {},
   "outputs": [],
   "source": [
    "hist_CALI3 = yf.download(\"CALI3.SA\", start=\"2013-01-01\", end=\"2023-10-01\")\n",
    "hist_CALI3 = hist_CALI3[[\"Adj Close\", \"Volume\"]]\n",
    "hist_CALI3.to_csv(\"C:\\\\Users\\\\victo\\\\OneDrive\\\\Documentos\\\\github\\\\tcc-analise-setores-mercado-financeiro\\\\data\\\\hist_cotacoes\\\\hist_CALI3.csv\", index=True)"
   ]
  },
  {
   "cell_type": "code",
   "execution_count": null,
   "metadata": {},
   "outputs": [],
   "source": [
    "hist_CTSA4 = yf.download(\"CTSA4.SA\", start=\"2013-01-01\", end=\"2023-10-01\")\n",
    "hist_CTSA4 = hist_CTSA4[[\"Adj Close\", \"Volume\"]]\n",
    "hist_CTSA4.to_csv(\"C:\\\\Users\\\\victo\\\\OneDrive\\\\Documentos\\\\github\\\\tcc-analise-setores-mercado-financeiro\\\\data\\\\hist_cotacoes\\\\hist_CTSA4.csv\", index=True)"
   ]
  },
  {
   "cell_type": "code",
   "execution_count": null,
   "metadata": {},
   "outputs": [],
   "source": [
    "hist_PNVL3 = yf.download(\"PNVL3.SA\", start=\"2013-01-01\", end=\"2023-10-01\")\n",
    "hist_PNVL3 = hist_PNVL3[[\"Adj Close\", \"Volume\"]]\n",
    "hist_PNVL3.to_csv(\"C:\\\\Users\\\\victo\\\\OneDrive\\\\Documentos\\\\github\\\\tcc-analise-setores-mercado-financeiro\\\\data\\\\hist_cotacoes\\\\hist_PNVL3.csv\", index=True)"
   ]
  },
  {
   "cell_type": "code",
   "execution_count": null,
   "metadata": {},
   "outputs": [],
   "source": [
    "hist_BPAR3 = yf.download(\"BPAR3.SA\", start=\"2013-01-01\", end=\"2023-10-01\")\n",
    "hist_BPAR3 = hist_BPAR3[[\"Adj Close\", \"Volume\"]]"
   ]
  },
  {
   "cell_type": "code",
   "execution_count": null,
   "metadata": {},
   "outputs": [],
   "source": [
    "# Corrigindo tickers\n",
    "df_segm_merc_empr['tickers'] = df_segm_merc_empr['tickers'].replace('CALI4', 'CALI3')\n",
    "df_segm_merc_empr['tickers'] = df_segm_merc_empr['tickers'].replace('CTSA8', 'CTSA4')\n",
    "df_segm_merc_empr['tickers'] = df_segm_merc_empr['tickers'].replace('PNVL4', 'PNVL3')"
   ]
  },
  {
   "cell_type": "code",
   "execution_count": null,
   "metadata": {},
   "outputs": [],
   "source": [
    "# Removendo tickers inexistentes\n",
    "df_segm_merc_empr = df_segm_merc_empr[df_segm_merc_empr['tickers'] != \"APTI4\"]\n",
    "df_segm_merc_empr = df_segm_merc_empr[df_segm_merc_empr['tickers'] != \"BPAR3\"]\n",
    "df_segm_merc_empr = df_segm_merc_empr[df_segm_merc_empr['tickers'] != \"MMAQ4\"]\n",
    "df_segm_merc_empr = df_segm_merc_empr[df_segm_merc_empr['tickers'] != \"MMAQ3\"]"
   ]
  },
  {
   "cell_type": "code",
   "execution_count": null,
   "metadata": {},
   "outputs": [],
   "source": [
    "df_segm_merc_empr.to_csv(\"C:\\\\Users\\\\victo\\\\OneDrive\\\\Documentos\\\\github\\\\tcc-analise-setores-mercado-financeiro\\\\data\\\\info_empresas.csv\", index=False)"
   ]
  }
 ],
 "metadata": {
  "kernelspec": {
   "display_name": "venv",
   "language": "python",
   "name": "python3"
  },
  "language_info": {
   "codemirror_mode": {
    "name": "ipython",
    "version": 3
   },
   "file_extension": ".py",
   "mimetype": "text/x-python",
   "name": "python",
   "nbconvert_exporter": "python",
   "pygments_lexer": "ipython3",
   "version": "3.11.4"
  }
 },
 "nbformat": 4,
 "nbformat_minor": 2
}
