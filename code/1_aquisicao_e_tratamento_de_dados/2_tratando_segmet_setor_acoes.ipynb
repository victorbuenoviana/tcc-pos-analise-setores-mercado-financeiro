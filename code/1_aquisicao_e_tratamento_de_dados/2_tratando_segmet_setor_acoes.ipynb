{
 "cells": [
  {
   "cell_type": "markdown",
   "metadata": {},
   "source": [
    "Instalando as bibliotecas"
   ]
  },
  {
   "cell_type": "code",
   "execution_count": 1,
   "metadata": {},
   "outputs": [],
   "source": [
    "# ! pip install pip install pandas\n",
    "# ! pip install openpyxl"
   ]
  },
  {
   "cell_type": "markdown",
   "metadata": {},
   "source": [
    "Importando as bibliotecas"
   ]
  },
  {
   "cell_type": "code",
   "execution_count": 2,
   "metadata": {},
   "outputs": [],
   "source": [
    "import pandas as pd\n",
    "from openpyxl import Workbook, load_workbook"
   ]
  },
  {
   "cell_type": "markdown",
   "metadata": {},
   "source": [
    "Estruturando dados em um df"
   ]
  },
  {
   "cell_type": "code",
   "execution_count": 3,
   "metadata": {},
   "outputs": [],
   "source": [
    "lista_setores = []\n",
    "lista_subsetores = []\n",
    "lista_nomes = []\n",
    "lista_codigos = []\n",
    "\n",
    "arquivo = f\"C:\\\\Users\\\\victo\\\\OneDrive\\\\Documentos\\\\github\\\\tcc-analise-setores-mercado-financeiro\\\\data\\\\empresas_por_setor_B3_01-11-2023.xlsx\"\n",
    "\n",
    "planilha = load_workbook(arquivo)\n",
    "\n",
    "aba_ativa = planilha.active\n",
    "\n",
    "for celula in aba_ativa[\"A\"]:\n",
    "    lista_setores.append(celula.value)\n",
    "\n",
    "for celula in aba_ativa[\"B\"]:\n",
    "    lista_subsetores.append(celula.value)\n",
    "\n",
    "for celula in aba_ativa[\"C\"]:\n",
    "    lista_nomes.append(celula.value)\n",
    "\n",
    "for celula in aba_ativa[\"D\"]:\n",
    "    lista_codigos.append(celula.value)\n",
    "\n",
    "df_empresas_b3 = pd.DataFrame({\"nome\": lista_nomes,\n",
    "                               \"codigo\": lista_codigos, \n",
    "                               \"setor\": lista_setores,\n",
    "                               \"subsetor\": lista_subsetores})"
   ]
  },
  {
   "cell_type": "markdown",
   "metadata": {},
   "source": [
    "Tratando os dados"
   ]
  },
  {
   "cell_type": "code",
   "execution_count": 4,
   "metadata": {},
   "outputs": [],
   "source": [
    "df_empresas_b3.dropna(axis=0, how='all', inplace=True)\n",
    "\n",
    "df_empresas_b3 = df_empresas_b3.loc[\n",
    "    df_empresas_b3[\"setor\"] != \"CLASSIFICAÇÃO SETORIAL DAS EMPRESAS NEGOCIADAS NA B3\"]\n",
    "\n",
    "df_empresas_b3 = df_empresas_b3.loc[df_empresas_b3[\"setor\"] != \"SETOR ECONÔMICO\"]\n",
    "\n",
    "df_empresas_b3 = df_empresas_b3.loc[df_empresas_b3[\"codigo\"] != \"CÓDIGO\"]\n",
    "\n",
    "df_empresas_b3[\"segmento\"] = df_empresas_b3.loc[df_empresas_b3[\"codigo\"].isna(), \"nome\"]\n",
    "\n",
    "df_empresas_b3[\"setor\"] = df_empresas_b3['setor'].ffill()\n",
    "\n",
    "df_empresas_b3[\"subsetor\"] = df_empresas_b3['subsetor'].ffill()\n",
    "\n",
    "df_empresas_b3[\"segmento\"] = df_empresas_b3['segmento'].ffill()\n",
    "\n",
    "df_empresas_b3 = df_empresas_b3.loc[df_empresas_b3[\"codigo\"].notna()]\n",
    "\n",
    "df_empresas_b3['nome'] = df_empresas_b3['nome'].str.strip()\n",
    "\n",
    "df_empresas_b3.reset_index(drop=True, inplace=True)"
   ]
  },
  {
   "cell_type": "markdown",
   "metadata": {},
   "source": [
    "Exportando os dados para um arquivo csv"
   ]
  },
  {
   "cell_type": "code",
   "execution_count": 6,
   "metadata": {},
   "outputs": [],
   "source": [
    "df_empresas_b3.to_csv(\n",
    "    'C:\\\\Users\\\\victo\\\\OneDrive\\\\Documentos\\\\github\\\\tcc-analise-setores-mercado-financeiro\\\\data\\\\segmentacao_mercado_empresas.csv', \n",
    "    index=False)"
   ]
  }
 ],
 "metadata": {
  "kernelspec": {
   "display_name": "venv",
   "language": "python",
   "name": "python3"
  },
  "language_info": {
   "codemirror_mode": {
    "name": "ipython",
    "version": 3
   },
   "file_extension": ".py",
   "mimetype": "text/x-python",
   "name": "python",
   "nbconvert_exporter": "python",
   "pygments_lexer": "ipython3",
   "version": "3.11.4"
  }
 },
 "nbformat": 4,
 "nbformat_minor": 2
}
