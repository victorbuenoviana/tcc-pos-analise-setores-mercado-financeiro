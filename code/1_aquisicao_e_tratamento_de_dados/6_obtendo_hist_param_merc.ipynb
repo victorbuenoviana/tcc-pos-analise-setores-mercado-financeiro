{
 "cells": [
  {
   "cell_type": "code",
   "execution_count": 1,
   "metadata": {},
   "outputs": [],
   "source": [
    "import pandas as pd\n",
    "import yfinance as yf"
   ]
  },
  {
   "cell_type": "markdown",
   "metadata": {},
   "source": [
    "Obtendo histórico de cotações Dólar/Real"
   ]
  },
  {
   "cell_type": "code",
   "execution_count": 2,
   "metadata": {},
   "outputs": [],
   "source": [
    "usd_brl = yf.Ticker(\"USDBRL=X\")\n",
    "hist_usd_brl = pd.DataFrame(usd_brl.history(start=\"2013-01-01\", end=\"2023-10-01\")[\"Close\"])"
   ]
  },
  {
   "cell_type": "code",
   "execution_count": 3,
   "metadata": {},
   "outputs": [
    {
     "data": {
      "text/html": [
       "<div>\n",
       "<style scoped>\n",
       "    .dataframe tbody tr th:only-of-type {\n",
       "        vertical-align: middle;\n",
       "    }\n",
       "\n",
       "    .dataframe tbody tr th {\n",
       "        vertical-align: top;\n",
       "    }\n",
       "\n",
       "    .dataframe thead th {\n",
       "        text-align: right;\n",
       "    }\n",
       "</style>\n",
       "<table border=\"1\" class=\"dataframe\">\n",
       "  <thead>\n",
       "    <tr style=\"text-align: right;\">\n",
       "      <th></th>\n",
       "      <th>Close</th>\n",
       "    </tr>\n",
       "    <tr>\n",
       "      <th>Date</th>\n",
       "      <th></th>\n",
       "    </tr>\n",
       "  </thead>\n",
       "  <tbody>\n",
       "    <tr>\n",
       "      <th>2013-01-01 00:00:00+00:00</th>\n",
       "      <td>2.0507</td>\n",
       "    </tr>\n",
       "    <tr>\n",
       "      <th>2013-01-02 00:00:00+00:00</th>\n",
       "      <td>2.0456</td>\n",
       "    </tr>\n",
       "    <tr>\n",
       "      <th>2013-01-03 00:00:00+00:00</th>\n",
       "      <td>2.0456</td>\n",
       "    </tr>\n",
       "    <tr>\n",
       "      <th>2013-01-04 00:00:00+00:00</th>\n",
       "      <td>2.0487</td>\n",
       "    </tr>\n",
       "    <tr>\n",
       "      <th>2013-01-07 00:00:00+00:00</th>\n",
       "      <td>2.0324</td>\n",
       "    </tr>\n",
       "  </tbody>\n",
       "</table>\n",
       "</div>"
      ],
      "text/plain": [
       "                            Close\n",
       "Date                             \n",
       "2013-01-01 00:00:00+00:00  2.0507\n",
       "2013-01-02 00:00:00+00:00  2.0456\n",
       "2013-01-03 00:00:00+00:00  2.0456\n",
       "2013-01-04 00:00:00+00:00  2.0487\n",
       "2013-01-07 00:00:00+00:00  2.0324"
      ]
     },
     "execution_count": 3,
     "metadata": {},
     "output_type": "execute_result"
    }
   ],
   "source": [
    "hist_usd_brl.head()"
   ]
  },
  {
   "cell_type": "code",
   "execution_count": 4,
   "metadata": {},
   "outputs": [
    {
     "name": "stdout",
     "output_type": "stream",
     "text": [
      "<class 'pandas.core.frame.DataFrame'>\n",
      "DatetimeIndex: 2799 entries, 2013-01-01 00:00:00+00:00 to 2023-09-29 00:00:00+01:00\n",
      "Data columns (total 1 columns):\n",
      " #   Column  Non-Null Count  Dtype  \n",
      "---  ------  --------------  -----  \n",
      " 0   Close   2799 non-null   float64\n",
      "dtypes: float64(1)\n",
      "memory usage: 43.7 KB\n"
     ]
    }
   ],
   "source": [
    "hist_usd_brl.info()"
   ]
  },
  {
   "cell_type": "code",
   "execution_count": 5,
   "metadata": {},
   "outputs": [
    {
     "data": {
      "text/html": [
       "<div>\n",
       "<style scoped>\n",
       "    .dataframe tbody tr th:only-of-type {\n",
       "        vertical-align: middle;\n",
       "    }\n",
       "\n",
       "    .dataframe tbody tr th {\n",
       "        vertical-align: top;\n",
       "    }\n",
       "\n",
       "    .dataframe thead th {\n",
       "        text-align: right;\n",
       "    }\n",
       "</style>\n",
       "<table border=\"1\" class=\"dataframe\">\n",
       "  <thead>\n",
       "    <tr style=\"text-align: right;\">\n",
       "      <th></th>\n",
       "      <th>Close</th>\n",
       "    </tr>\n",
       "  </thead>\n",
       "  <tbody>\n",
       "    <tr>\n",
       "      <th>count</th>\n",
       "      <td>2799.000000</td>\n",
       "    </tr>\n",
       "    <tr>\n",
       "      <th>mean</th>\n",
       "      <td>3.867363</td>\n",
       "    </tr>\n",
       "    <tr>\n",
       "      <th>std</th>\n",
       "      <td>1.123770</td>\n",
       "    </tr>\n",
       "    <tr>\n",
       "      <th>min</th>\n",
       "      <td>1.941900</td>\n",
       "    </tr>\n",
       "    <tr>\n",
       "      <th>25%</th>\n",
       "      <td>3.133300</td>\n",
       "    </tr>\n",
       "    <tr>\n",
       "      <th>50%</th>\n",
       "      <td>3.772400</td>\n",
       "    </tr>\n",
       "    <tr>\n",
       "      <th>75%</th>\n",
       "      <td>5.061030</td>\n",
       "    </tr>\n",
       "    <tr>\n",
       "      <th>max</th>\n",
       "      <td>5.886400</td>\n",
       "    </tr>\n",
       "  </tbody>\n",
       "</table>\n",
       "</div>"
      ],
      "text/plain": [
       "             Close\n",
       "count  2799.000000\n",
       "mean      3.867363\n",
       "std       1.123770\n",
       "min       1.941900\n",
       "25%       3.133300\n",
       "50%       3.772400\n",
       "75%       5.061030\n",
       "max       5.886400"
      ]
     },
     "execution_count": 5,
     "metadata": {},
     "output_type": "execute_result"
    }
   ],
   "source": [
    "hist_usd_brl.describe()"
   ]
  },
  {
   "cell_type": "code",
   "execution_count": 6,
   "metadata": {},
   "outputs": [],
   "source": [
    "hist_usd_brl.to_csv(\"C:\\\\Users\\\\victo\\\\OneDrive\\\\Documentos\\\\github\\\\tcc-analise-setores-mercado-financeiro\\\\data\\\\hist_usd_brl.csv\")"
   ]
  },
  {
   "cell_type": "markdown",
   "metadata": {},
   "source": [
    "Obtendo histórico do IPCA"
   ]
  },
  {
   "cell_type": "code",
   "execution_count": 7,
   "metadata": {},
   "outputs": [],
   "source": [
    "# URL do arquivo CSV do IPCA no site do Banco Central do Brasil\n",
    "url = 'https://api.bcb.gov.br/dados/serie/bcdata.sgs.433/dados?formato=csv'\n",
    "\n",
    "# Carregar o arquivo CSV no pandas\n",
    "hist_ipca = pd.read_csv(url, sep=';', index_col='data', parse_dates=['data'])\n",
    "\n",
    "# Filtrar o período desejado\n",
    "hist_ipca = hist_ipca.loc['2013-01-01':'2023-10-01']"
   ]
  },
  {
   "cell_type": "code",
   "execution_count": 8,
   "metadata": {},
   "outputs": [
    {
     "data": {
      "text/html": [
       "<div>\n",
       "<style scoped>\n",
       "    .dataframe tbody tr th:only-of-type {\n",
       "        vertical-align: middle;\n",
       "    }\n",
       "\n",
       "    .dataframe tbody tr th {\n",
       "        vertical-align: top;\n",
       "    }\n",
       "\n",
       "    .dataframe thead th {\n",
       "        text-align: right;\n",
       "    }\n",
       "</style>\n",
       "<table border=\"1\" class=\"dataframe\">\n",
       "  <thead>\n",
       "    <tr style=\"text-align: right;\">\n",
       "      <th></th>\n",
       "      <th>valor</th>\n",
       "    </tr>\n",
       "    <tr>\n",
       "      <th>data</th>\n",
       "      <th></th>\n",
       "    </tr>\n",
       "  </thead>\n",
       "  <tbody>\n",
       "    <tr>\n",
       "      <th>2013-01-01</th>\n",
       "      <td>0,86</td>\n",
       "    </tr>\n",
       "    <tr>\n",
       "      <th>2013-01-02</th>\n",
       "      <td>0,60</td>\n",
       "    </tr>\n",
       "    <tr>\n",
       "      <th>2013-01-03</th>\n",
       "      <td>0,47</td>\n",
       "    </tr>\n",
       "    <tr>\n",
       "      <th>2013-01-04</th>\n",
       "      <td>0,55</td>\n",
       "    </tr>\n",
       "    <tr>\n",
       "      <th>2013-01-05</th>\n",
       "      <td>0,37</td>\n",
       "    </tr>\n",
       "  </tbody>\n",
       "</table>\n",
       "</div>"
      ],
      "text/plain": [
       "           valor\n",
       "data            \n",
       "2013-01-01  0,86\n",
       "2013-01-02  0,60\n",
       "2013-01-03  0,47\n",
       "2013-01-04  0,55\n",
       "2013-01-05  0,37"
      ]
     },
     "execution_count": 8,
     "metadata": {},
     "output_type": "execute_result"
    }
   ],
   "source": [
    "hist_ipca.head()"
   ]
  },
  {
   "cell_type": "code",
   "execution_count": 9,
   "metadata": {},
   "outputs": [
    {
     "name": "stdout",
     "output_type": "stream",
     "text": [
      "<class 'pandas.core.frame.DataFrame'>\n",
      "DatetimeIndex: 130 entries, 2013-01-01 to 2023-01-10\n",
      "Data columns (total 1 columns):\n",
      " #   Column  Non-Null Count  Dtype \n",
      "---  ------  --------------  ----- \n",
      " 0   valor   130 non-null    object\n",
      "dtypes: object(1)\n",
      "memory usage: 2.0+ KB\n"
     ]
    }
   ],
   "source": [
    "hist_ipca.info()"
   ]
  },
  {
   "cell_type": "code",
   "execution_count": 10,
   "metadata": {},
   "outputs": [
    {
     "data": {
      "text/plain": [
       "data\n",
       "2013-01-01    0.86\n",
       "2013-01-02    0.60\n",
       "2013-01-03    0.47\n",
       "2013-01-04    0.55\n",
       "2013-01-05    0.37\n",
       "              ... \n",
       "2023-01-06   -0.08\n",
       "2023-01-07    0.12\n",
       "2023-01-08    0.23\n",
       "2023-01-09    0.26\n",
       "2023-01-10    0.24\n",
       "Name: valor, Length: 130, dtype: float64"
      ]
     },
     "execution_count": 10,
     "metadata": {},
     "output_type": "execute_result"
    }
   ],
   "source": [
    "hist_ipca[\"valor\"].str.replace(\",\", \".\").astype(float)"
   ]
  },
  {
   "cell_type": "code",
   "execution_count": 11,
   "metadata": {},
   "outputs": [
    {
     "data": {
      "text/html": [
       "<div>\n",
       "<style scoped>\n",
       "    .dataframe tbody tr th:only-of-type {\n",
       "        vertical-align: middle;\n",
       "    }\n",
       "\n",
       "    .dataframe tbody tr th {\n",
       "        vertical-align: top;\n",
       "    }\n",
       "\n",
       "    .dataframe thead th {\n",
       "        text-align: right;\n",
       "    }\n",
       "</style>\n",
       "<table border=\"1\" class=\"dataframe\">\n",
       "  <thead>\n",
       "    <tr style=\"text-align: right;\">\n",
       "      <th></th>\n",
       "      <th>valor</th>\n",
       "    </tr>\n",
       "  </thead>\n",
       "  <tbody>\n",
       "    <tr>\n",
       "      <th>count</th>\n",
       "      <td>130</td>\n",
       "    </tr>\n",
       "    <tr>\n",
       "      <th>unique</th>\n",
       "      <td>91</td>\n",
       "    </tr>\n",
       "    <tr>\n",
       "      <th>top</th>\n",
       "      <td>0,25</td>\n",
       "    </tr>\n",
       "    <tr>\n",
       "      <th>freq</th>\n",
       "      <td>4</td>\n",
       "    </tr>\n",
       "  </tbody>\n",
       "</table>\n",
       "</div>"
      ],
      "text/plain": [
       "       valor\n",
       "count    130\n",
       "unique    91\n",
       "top     0,25\n",
       "freq       4"
      ]
     },
     "execution_count": 11,
     "metadata": {},
     "output_type": "execute_result"
    }
   ],
   "source": [
    "hist_ipca.describe()"
   ]
  },
  {
   "cell_type": "code",
   "execution_count": 12,
   "metadata": {},
   "outputs": [],
   "source": [
    "hist_ipca.to_csv(\"C:\\\\Users\\\\victo\\\\OneDrive\\\\Documentos\\\\github\\\\tcc-analise-setores-mercado-financeiro\\\\data\\\\hist_ipca.csv\")"
   ]
  },
  {
   "cell_type": "markdown",
   "metadata": {},
   "source": [
    "Obtendo histórico do IGP-M"
   ]
  },
  {
   "cell_type": "code",
   "execution_count": 13,
   "metadata": {},
   "outputs": [],
   "source": [
    "# URL do arquivo CSV do IGP-M no site do Banco Central do Brasil\n",
    "url = 'https://api.bcb.gov.br/dados/serie/bcdata.sgs.189/dados?formato=csv'\n",
    "\n",
    "# Carregar o arquivo CSV no pandas\n",
    "hist_igpm = pd.read_csv(url, sep=';', index_col='data', parse_dates=['data'])\n",
    "\n",
    "# Filtrar o período desejado\n",
    "hist_igpm = hist_igpm.loc['2013-01-01':'2023-10-01']"
   ]
  },
  {
   "cell_type": "code",
   "execution_count": 14,
   "metadata": {},
   "outputs": [
    {
     "data": {
      "text/html": [
       "<div>\n",
       "<style scoped>\n",
       "    .dataframe tbody tr th:only-of-type {\n",
       "        vertical-align: middle;\n",
       "    }\n",
       "\n",
       "    .dataframe tbody tr th {\n",
       "        vertical-align: top;\n",
       "    }\n",
       "\n",
       "    .dataframe thead th {\n",
       "        text-align: right;\n",
       "    }\n",
       "</style>\n",
       "<table border=\"1\" class=\"dataframe\">\n",
       "  <thead>\n",
       "    <tr style=\"text-align: right;\">\n",
       "      <th></th>\n",
       "      <th>valor</th>\n",
       "    </tr>\n",
       "    <tr>\n",
       "      <th>data</th>\n",
       "      <th></th>\n",
       "    </tr>\n",
       "  </thead>\n",
       "  <tbody>\n",
       "    <tr>\n",
       "      <th>2013-01-01</th>\n",
       "      <td>0,34</td>\n",
       "    </tr>\n",
       "    <tr>\n",
       "      <th>2013-01-02</th>\n",
       "      <td>0,29</td>\n",
       "    </tr>\n",
       "    <tr>\n",
       "      <th>2013-01-03</th>\n",
       "      <td>0,21</td>\n",
       "    </tr>\n",
       "    <tr>\n",
       "      <th>2013-01-04</th>\n",
       "      <td>0,15</td>\n",
       "    </tr>\n",
       "    <tr>\n",
       "      <th>2013-01-05</th>\n",
       "      <td>0,00</td>\n",
       "    </tr>\n",
       "  </tbody>\n",
       "</table>\n",
       "</div>"
      ],
      "text/plain": [
       "           valor\n",
       "data            \n",
       "2013-01-01  0,34\n",
       "2013-01-02  0,29\n",
       "2013-01-03  0,21\n",
       "2013-01-04  0,15\n",
       "2013-01-05  0,00"
      ]
     },
     "execution_count": 14,
     "metadata": {},
     "output_type": "execute_result"
    }
   ],
   "source": [
    "hist_igpm.head()"
   ]
  },
  {
   "cell_type": "code",
   "execution_count": 15,
   "metadata": {},
   "outputs": [
    {
     "name": "stdout",
     "output_type": "stream",
     "text": [
      "<class 'pandas.core.frame.DataFrame'>\n",
      "DatetimeIndex: 130 entries, 2013-01-01 to 2023-01-10\n",
      "Data columns (total 1 columns):\n",
      " #   Column  Non-Null Count  Dtype \n",
      "---  ------  --------------  ----- \n",
      " 0   valor   130 non-null    object\n",
      "dtypes: object(1)\n",
      "memory usage: 2.0+ KB\n"
     ]
    }
   ],
   "source": [
    "hist_igpm.info()"
   ]
  },
  {
   "cell_type": "code",
   "execution_count": 16,
   "metadata": {},
   "outputs": [
    {
     "data": {
      "text/plain": [
       "data\n",
       "2013-01-01    0.34\n",
       "2013-01-02    0.29\n",
       "2013-01-03    0.21\n",
       "2013-01-04    0.15\n",
       "2013-01-05    0.00\n",
       "              ... \n",
       "2023-01-06   -1.93\n",
       "2023-01-07   -0.72\n",
       "2023-01-08   -0.14\n",
       "2023-01-09    0.37\n",
       "2023-01-10    0.50\n",
       "Name: valor, Length: 130, dtype: float64"
      ]
     },
     "execution_count": 16,
     "metadata": {},
     "output_type": "execute_result"
    }
   ],
   "source": [
    "hist_igpm[\"valor\"].str.replace(\",\", \".\").astype(float)"
   ]
  },
  {
   "cell_type": "code",
   "execution_count": 17,
   "metadata": {},
   "outputs": [
    {
     "data": {
      "text/html": [
       "<div>\n",
       "<style scoped>\n",
       "    .dataframe tbody tr th:only-of-type {\n",
       "        vertical-align: middle;\n",
       "    }\n",
       "\n",
       "    .dataframe tbody tr th {\n",
       "        vertical-align: top;\n",
       "    }\n",
       "\n",
       "    .dataframe thead th {\n",
       "        text-align: right;\n",
       "    }\n",
       "</style>\n",
       "<table border=\"1\" class=\"dataframe\">\n",
       "  <thead>\n",
       "    <tr style=\"text-align: right;\">\n",
       "      <th></th>\n",
       "      <th>valor</th>\n",
       "    </tr>\n",
       "  </thead>\n",
       "  <tbody>\n",
       "    <tr>\n",
       "      <th>count</th>\n",
       "      <td>130</td>\n",
       "    </tr>\n",
       "    <tr>\n",
       "      <th>unique</th>\n",
       "      <td>104</td>\n",
       "    </tr>\n",
       "    <tr>\n",
       "      <th>top</th>\n",
       "      <td>0,20</td>\n",
       "    </tr>\n",
       "    <tr>\n",
       "      <th>freq</th>\n",
       "      <td>3</td>\n",
       "    </tr>\n",
       "  </tbody>\n",
       "</table>\n",
       "</div>"
      ],
      "text/plain": [
       "       valor\n",
       "count    130\n",
       "unique   104\n",
       "top     0,20\n",
       "freq       3"
      ]
     },
     "execution_count": 17,
     "metadata": {},
     "output_type": "execute_result"
    }
   ],
   "source": [
    "hist_igpm.describe()"
   ]
  },
  {
   "cell_type": "code",
   "execution_count": 18,
   "metadata": {},
   "outputs": [],
   "source": [
    "hist_igpm.to_csv(\"C:\\\\Users\\\\victo\\\\OneDrive\\\\Documentos\\\\github\\\\tcc-analise-setores-mercado-financeiro\\\\data\\\\hist_igpm.csv\")"
   ]
  },
  {
   "cell_type": "markdown",
   "metadata": {},
   "source": [
    "Obtendo historico da taxa selic"
   ]
  },
  {
   "cell_type": "code",
   "execution_count": 19,
   "metadata": {},
   "outputs": [],
   "source": [
    "# url api: https://dadosabertos.bcb.gov.br/dataset/11-taxa-de-juros---selic/resource/3d751a0d-afb2-452b-83f2-310a201f8a82\n",
    "\n",
    "# http://api.bcb.gov.br/dados/serie/bcdata.sgs.{11}/dados?formato={csv}&dataInicial={\"01/01/2013\"}&dataFinal={\"01/10/2023\"}\n",
    "\n",
    "# url endpoint: https://api.bcb.gov.br/dados/serie/bcdata.sgs.11/dados?formato=csv"
   ]
  },
  {
   "cell_type": "code",
   "execution_count": 20,
   "metadata": {},
   "outputs": [],
   "source": [
    "# documentação biblioteca sgs\n",
    "\n",
    "# https://wilsonfreitas.github.io/python-bcb/sgs.html\n",
    "\n",
    "# from bcb import sgs\n",
    "\n",
    "# import matplotlib.pyplot as plt\n",
    "\n",
    "# import matplotlib as mpl\n",
    "\n",
    "# mpl.style.use('bmh')\n",
    "\n",
    "# df = sgs.get({'IPCA': 433}, start='2002-02-01')\n",
    "\n",
    "# df.index = df.index.to_period('M')\n",
    "\n",
    "# df.head()\n",
    "# Out[7]: \n",
    "#          IPCA\n",
    "# Date         \n",
    "# 2002-02  0.36\n",
    "# 2002-03  0.60\n",
    "# 2002-04  0.80\n",
    "# 2002-05  0.21\n",
    "# 2002-06  0.42\n",
    "# dfr = df.rolling(12)\n",
    "\n",
    "# i12 = dfr.apply(lambda x: (1 + x/100).prod() - 1).dropna() * 100\n",
    "\n",
    "# i12.head()\n",
    "# Out[10]: \n",
    "#               IPCA\n",
    "# Date              \n",
    "# 2003-01  14.467041\n",
    "# 2003-02  15.847124\n",
    "# 2003-03  16.572608\n",
    "# 2003-04  16.769209\n",
    "# 2003-05  17.235307\n",
    "# i12.plot(figsize=(12,6))\n",
    "# Out[11]: <Axes: xlabel='Date'>\n",
    "\n",
    "# plt.title('Fonte: https://dadosabertos.bcb.gov.br', fontsize=10)\n",
    "# Out[12]: Text(0.5, 1.0, 'Fonte: https://dadosabertos.bcb.gov.br')\n",
    "\n",
    "# plt.suptitle('IPCA acumulado 12 meses - Janela Móvel', fontsize=18)\n",
    "# Out[13]: Text(0.5, 0.98, 'IPCA acumulado 12 meses - Janela Móvel')\n",
    "\n",
    "# plt.xlabel('Data')\n",
    "# Out[14]: Text(0.5, 0, 'Data')\n",
    "\n",
    "# plt.ylabel('%')\n",
    "# Out[15]: Text(0, 0.5, '%')\n",
    "\n",
    "# plt.legend().set_visible(False)"
   ]
  },
  {
   "cell_type": "code",
   "execution_count": 11,
   "metadata": {},
   "outputs": [
    {
     "data": {
      "text/plain": [
       "data\n",
       "2012-01-02    2012-01\n",
       "2012-01-03    2012-01\n",
       "2012-01-04    2012-01\n",
       "2012-01-05    2012-01\n",
       "2012-01-06    2012-01\n",
       "               ...   \n",
       "2023-09-25    2023-09\n",
       "2023-09-26    2023-09\n",
       "2023-09-27    2023-09\n",
       "2023-09-28    2023-09\n",
       "2023-09-29    2023-09\n",
       "Name: ano_mes, Length: 2951, dtype: object"
      ]
     },
     "metadata": {},
     "output_type": "display_data"
    }
   ],
   "source": [
    "import pandas as pd\n",
    "\n",
    "# Faz a requisição HTTP para a API do Banco Central\n",
    "url = 'https://api.bcb.gov.br/dados/serie/bcdata.sgs.11/dados?formato=json'\n",
    "hist_selic = pd.read_json(url)\n",
    "hist_selic[\"data\"] = pd.to_datetime(hist_selic[\"data\"], format=\"%d/%m/%Y\")\n",
    "hist_selic.set_index('data', inplace=True)\n",
    "hist_selic = hist_selic.loc[\"2012-01-01\":\"2023-10-01\"]\n",
    "hist_selic[\"ano_mes\"] = hist_selic.index.strftime('%Y-%m')\n",
    "hist_selic.drop_duplicates()\n",
    "# hist_selic_agrupado = hist_selic.groupby(hist_selic.index.month)\n",
    "# hist_selic_agrupado = hist_selic_agrupado[\"valor\"].mean()\n",
    "#hist_selic[\"valor\"] = hist_selic[\"valor\"].rolling(12).apply(lambda x: (1 + x/100).prod() - 1).dropna() * 100\n",
    "display(hist_selic[\"ano_mes\"])\n",
    "# hist_selic.tail(20)"
   ]
  },
  {
   "cell_type": "code",
   "execution_count": 32,
   "metadata": {},
   "outputs": [
    {
     "data": {
      "text/plain": [
       "valor    11\n",
       "dtype: int64"
      ]
     },
     "execution_count": 32,
     "metadata": {},
     "output_type": "execute_result"
    }
   ],
   "source": [
    "hist_selic.isna().sum()"
   ]
  },
  {
   "cell_type": "code",
   "execution_count": null,
   "metadata": {},
   "outputs": [],
   "source": [
    "# display(hist_selic)"
   ]
  },
  {
   "cell_type": "code",
   "execution_count": null,
   "metadata": {},
   "outputs": [],
   "source": [
    "! pip install sgs"
   ]
  },
  {
   "cell_type": "code",
   "execution_count": null,
   "metadata": {},
   "outputs": [],
   "source": [
    "fromimport sgs"
   ]
  },
  {
   "cell_type": "code",
   "execution_count": null,
   "metadata": {},
   "outputs": [],
   "source": [
    "selic = sgs.get({\"selic\":432}, start=\"2013-01-01\", end=\"2023-10-01\")\n",
    "\n",
    "selic.tail()\n",
    "\n",
    "# selic.head()\n",
    "\n",
    "# selic.info()\n",
    "\n",
    "# selic.describe()\n",
    "\n",
    "# selic.to_csv(\"C:\\\\Users\\\\victo\\\\OneDrive\\\\Documentos\\\\github\\\\tcc-analise-setores-mercado-financeiro\\\\data\\\\hist_selic.csv\")"
   ]
  }
 ],
 "metadata": {
  "kernelspec": {
   "display_name": "venv",
   "language": "python",
   "name": "python3"
  },
  "language_info": {
   "codemirror_mode": {
    "name": "ipython",
    "version": 3
   },
   "file_extension": ".py",
   "mimetype": "text/x-python",
   "name": "python",
   "nbconvert_exporter": "python",
   "pygments_lexer": "ipython3",
   "version": "3.11.4"
  }
 },
 "nbformat": 4,
 "nbformat_minor": 2
}
