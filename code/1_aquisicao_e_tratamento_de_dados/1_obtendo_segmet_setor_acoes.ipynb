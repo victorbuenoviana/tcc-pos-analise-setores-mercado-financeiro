{
 "cells": [
  {
   "cell_type": "markdown",
   "metadata": {},
   "source": [
    "Instalando Bilbiotecas"
   ]
  },
  {
   "cell_type": "code",
   "execution_count": 1,
   "metadata": {},
   "outputs": [],
   "source": [
    "# ! pip install selenium\n",
    "# ! pip install webdriver_manager"
   ]
  },
  {
   "cell_type": "markdown",
   "metadata": {},
   "source": [
    "Importando bibliotecas e instalando o webdriver atualizado"
   ]
  },
  {
   "cell_type": "code",
   "execution_count": 2,
   "metadata": {},
   "outputs": [],
   "source": [
    "from selenium import webdriver\n",
    "from webdriver_manager.chrome import ChromeDriverManager\n",
    "from selenium.webdriver.chrome.service import Service\n",
    "from selenium.webdriver.common.by import By\n",
    "from selenium.webdriver.support.wait import WebDriverWait\n",
    "from selenium.webdriver.support import expected_conditions as EC\n",
    "\n",
    "service = Service(ChromeDriverManager().install())"
   ]
  },
  {
   "cell_type": "markdown",
   "metadata": {},
   "source": [
    "Definindo a url alvo"
   ]
  },
  {
   "cell_type": "code",
   "execution_count": 3,
   "metadata": {},
   "outputs": [],
   "source": [
    "# # fonte setores\n",
    "# url = \"https://www.b3.com.br/pt_br/produtos-e-servicos/negociacao/renda-variavel/acoes/consultas/classificacao-setorial/\"\n",
    "# # fonte tickers \n",
    "# url = \"https://www.dadosdemercado.com.br/bolsa/acoes\""
   ]
  },
  {
   "cell_type": "markdown",
   "metadata": {},
   "source": [
    "Automatizando o download das listas"
   ]
  },
  {
   "cell_type": "code",
   "execution_count": 8,
   "metadata": {},
   "outputs": [
    {
     "ename": "InvalidSelectorException",
     "evalue": "Message: invalid selector: Unable to locate an element with the xpath expression /html/body/app-root/app-companies-classification/div'] because of the following error:\nSyntaxError: Failed to execute 'evaluate' on 'Document': The string '/html/body/app-root/app-companies-classification/div']' is not a valid XPath expression.\n  (Session info: chrome=119.0.6045.105); For documentation on this error, please visit: https://www.selenium.dev/documentation/webdriver/troubleshooting/errors#invalid-selector-exception\nStacktrace:\n\tGetHandleVerifier [0x00007FF6693E82B2+55298]\n\t(No symbol) [0x00007FF669355E02]\n\t(No symbol) [0x00007FF6692105AB]\n\t(No symbol) [0x00007FF66921509C]\n\t(No symbol) [0x00007FF669216FDF]\n\t(No symbol) [0x00007FF6692170D0]\n\t(No symbol) [0x00007FF6692513E4]\n\t(No symbol) [0x00007FF6692518DC]\n\t(No symbol) [0x00007FF66928CBC7]\n\t(No symbol) [0x00007FF6692720EF]\n\t(No symbol) [0x00007FF66928AAA4]\n\t(No symbol) [0x00007FF669271E83]\n\t(No symbol) [0x00007FF66924670A]\n\t(No symbol) [0x00007FF669247964]\n\tGetHandleVerifier [0x00007FF669760AAB+3694587]\n\tGetHandleVerifier [0x00007FF6697B728E+4048862]\n\tGetHandleVerifier [0x00007FF6697AF173+4015811]\n\tGetHandleVerifier [0x00007FF6694847D6+695590]\n\t(No symbol) [0x00007FF669360CE8]\n\t(No symbol) [0x00007FF66935CF34]\n\t(No symbol) [0x00007FF66935D062]\n\t(No symbol) [0x00007FF66934D3A3]\n\tBaseThreadInitThunk [0x00007FFC402C257D+29]\n\tRtlUserThreadStart [0x00007FFC4210AA58+40]\n",
     "output_type": "error",
     "traceback": [
      "\u001b[1;31m---------------------------------------------------------------------------\u001b[0m",
      "\u001b[1;31mInvalidSelectorException\u001b[0m                  Traceback (most recent call last)",
      "\u001b[1;32mc:\\Users\\victo\\OneDrive\\Documentos\\github\\tcc-analise-setores-mercado-financeiro\\code\\1_aquisicao_dados\\baixando_listas_ativos_por_setor.ipynb Célula 8\u001b[0m line \u001b[0;36m1\n\u001b[0;32m      <a href='vscode-notebook-cell:/c%3A/Users/victo/OneDrive/Documentos/github/tcc-analise-setores-mercado-financeiro/code/1_aquisicao_dados/baixando_listas_ativos_por_setor.ipynb#X14sZmlsZQ%3D%3D?line=7'>8</a>\u001b[0m WebDriverWait(driver, \u001b[39m5\u001b[39m)\u001b[39m.\u001b[39muntil(\n\u001b[0;32m      <a href='vscode-notebook-cell:/c%3A/Users/victo/OneDrive/Documentos/github/tcc-analise-setores-mercado-financeiro/code/1_aquisicao_dados/baixando_listas_ativos_por_setor.ipynb#X14sZmlsZQ%3D%3D?line=8'>9</a>\u001b[0m     EC\u001b[39m.\u001b[39mvisibility_of_element_located(\n\u001b[0;32m     <a href='vscode-notebook-cell:/c%3A/Users/victo/OneDrive/Documentos/github/tcc-analise-setores-mercado-financeiro/code/1_aquisicao_dados/baixando_listas_ativos_por_setor.ipynb#X14sZmlsZQ%3D%3D?line=9'>10</a>\u001b[0m         (By\u001b[39m.\u001b[39mXPATH, \u001b[39m\"\u001b[39m\u001b[39m//button[@id=\u001b[39m\u001b[39m'\u001b[39m\u001b[39monetrust-accept-btn-handler\u001b[39m\u001b[39m'\u001b[39m\u001b[39m]\u001b[39m\u001b[39m\"\u001b[39m)\n\u001b[0;32m     <a href='vscode-notebook-cell:/c%3A/Users/victo/OneDrive/Documentos/github/tcc-analise-setores-mercado-financeiro/code/1_aquisicao_dados/baixando_listas_ativos_por_setor.ipynb#X14sZmlsZQ%3D%3D?line=10'>11</a>\u001b[0m         ))\u001b[39m.\u001b[39mclick()\n\u001b[0;32m     <a href='vscode-notebook-cell:/c%3A/Users/victo/OneDrive/Documentos/github/tcc-analise-setores-mercado-financeiro/code/1_aquisicao_dados/baixando_listas_ativos_por_setor.ipynb#X14sZmlsZQ%3D%3D?line=12'>13</a>\u001b[0m \u001b[39m# esperando o carregamento do iframe e mudando o \u001b[39;00m\n\u001b[0;32m     <a href='vscode-notebook-cell:/c%3A/Users/victo/OneDrive/Documentos/github/tcc-analise-setores-mercado-financeiro/code/1_aquisicao_dados/baixando_listas_ativos_por_setor.ipynb#X14sZmlsZQ%3D%3D?line=13'>14</a>\u001b[0m \u001b[39m# induza WebDriverWait para que o elemento desejado seja clicável\u001b[39;00m\n\u001b[0;32m     <a href='vscode-notebook-cell:/c%3A/Users/victo/OneDrive/Documentos/github/tcc-analise-setores-mercado-financeiro/code/1_aquisicao_dados/baixando_listas_ativos_por_setor.ipynb#X14sZmlsZQ%3D%3D?line=14'>15</a>\u001b[0m \u001b[39m# WebDriverWait(driver, 5).until(\u001b[39;00m\n\u001b[0;32m     <a href='vscode-notebook-cell:/c%3A/Users/victo/OneDrive/Documentos/github/tcc-analise-setores-mercado-financeiro/code/1_aquisicao_dados/baixando_listas_ativos_por_setor.ipynb#X14sZmlsZQ%3D%3D?line=15'>16</a>\u001b[0m \u001b[39m#     EC.frame_to_be_available_and_switch_to_it(\u001b[39;00m\n\u001b[0;32m     <a href='vscode-notebook-cell:/c%3A/Users/victo/OneDrive/Documentos/github/tcc-analise-setores-mercado-financeiro/code/1_aquisicao_dados/baixando_listas_ativos_por_setor.ipynb#X14sZmlsZQ%3D%3D?line=16'>17</a>\u001b[0m \u001b[39m#         (By.XPATH,\"//iframe[@id='bvmf_iframe']\")))\u001b[39;00m\n\u001b[1;32m---> <a href='vscode-notebook-cell:/c%3A/Users/victo/OneDrive/Documentos/github/tcc-analise-setores-mercado-financeiro/code/1_aquisicao_dados/baixando_listas_ativos_por_setor.ipynb#X14sZmlsZQ%3D%3D?line=18'>19</a>\u001b[0m WebDriverWait(driver, \u001b[39m5\u001b[39;49m)\u001b[39m.\u001b[39;49muntil(\n\u001b[0;32m     <a href='vscode-notebook-cell:/c%3A/Users/victo/OneDrive/Documentos/github/tcc-analise-setores-mercado-financeiro/code/1_aquisicao_dados/baixando_listas_ativos_por_setor.ipynb#X14sZmlsZQ%3D%3D?line=19'>20</a>\u001b[0m     EC\u001b[39m.\u001b[39;49mframe_to_be_available_and_switch_to_it(\n\u001b[0;32m     <a href='vscode-notebook-cell:/c%3A/Users/victo/OneDrive/Documentos/github/tcc-analise-setores-mercado-financeiro/code/1_aquisicao_dados/baixando_listas_ativos_por_setor.ipynb#X14sZmlsZQ%3D%3D?line=20'>21</a>\u001b[0m         (By\u001b[39m.\u001b[39;49mXPATH,\u001b[39m\"\u001b[39;49m\u001b[39m/html/body/app-root/app-companies-classification/div\u001b[39;49m\u001b[39m'\u001b[39;49m\u001b[39m]\u001b[39;49m\u001b[39m\"\u001b[39;49m)))\n\u001b[0;32m     <a href='vscode-notebook-cell:/c%3A/Users/victo/OneDrive/Documentos/github/tcc-analise-setores-mercado-financeiro/code/1_aquisicao_dados/baixando_listas_ativos_por_setor.ipynb#X14sZmlsZQ%3D%3D?line=23'>24</a>\u001b[0m \u001b[39m# esperando pela caixa de seleção do número de itens exibidos na lista e clicando nela\u001b[39;00m\n\u001b[0;32m     <a href='vscode-notebook-cell:/c%3A/Users/victo/OneDrive/Documentos/github/tcc-analise-setores-mercado-financeiro/code/1_aquisicao_dados/baixando_listas_ativos_por_setor.ipynb#X14sZmlsZQ%3D%3D?line=24'>25</a>\u001b[0m WebDriverWait(driver, \u001b[39m5\u001b[39m)\u001b[39m.\u001b[39muntil(\n\u001b[0;32m     <a href='vscode-notebook-cell:/c%3A/Users/victo/OneDrive/Documentos/github/tcc-analise-setores-mercado-financeiro/code/1_aquisicao_dados/baixando_listas_ativos_por_setor.ipynb#X14sZmlsZQ%3D%3D?line=25'>26</a>\u001b[0m     EC\u001b[39m.\u001b[39mvisibility_of_element_located(\n\u001b[0;32m     <a href='vscode-notebook-cell:/c%3A/Users/victo/OneDrive/Documentos/github/tcc-analise-setores-mercado-financeiro/code/1_aquisicao_dados/baixando_listas_ativos_por_setor.ipynb#X14sZmlsZQ%3D%3D?line=26'>27</a>\u001b[0m         (By\u001b[39m.\u001b[39mXPATH,\u001b[39m\"\u001b[39m\u001b[39m/html/body/app-root/app-companies-classification/div/div/div/app-companies-home-filter-classification/form/div[1]/div/div/select\u001b[39m\u001b[39m\"\u001b[39m)\n\u001b[0;32m     <a href='vscode-notebook-cell:/c%3A/Users/victo/OneDrive/Documentos/github/tcc-analise-setores-mercado-financeiro/code/1_aquisicao_dados/baixando_listas_ativos_por_setor.ipynb#X14sZmlsZQ%3D%3D?line=27'>28</a>\u001b[0m         ))\u001b[39m.\u001b[39mclick()\n",
      "File \u001b[1;32mc:\\Users\\victo\\OneDrive\\Documentos\\github\\tcc-analise-setores-mercado-financeiro\\venv\\Lib\\site-packages\\selenium\\webdriver\\support\\wait.py:92\u001b[0m, in \u001b[0;36mWebDriverWait.until\u001b[1;34m(self, method, message)\u001b[0m\n\u001b[0;32m     90\u001b[0m \u001b[39mwhile\u001b[39;00m \u001b[39mTrue\u001b[39;00m:\n\u001b[0;32m     91\u001b[0m     \u001b[39mtry\u001b[39;00m:\n\u001b[1;32m---> 92\u001b[0m         value \u001b[39m=\u001b[39m method(\u001b[39mself\u001b[39;49m\u001b[39m.\u001b[39;49m_driver)\n\u001b[0;32m     93\u001b[0m         \u001b[39mif\u001b[39;00m value:\n\u001b[0;32m     94\u001b[0m             \u001b[39mreturn\u001b[39;00m value\n",
      "File \u001b[1;32mc:\\Users\\victo\\OneDrive\\Documentos\\github\\tcc-analise-setores-mercado-financeiro\\venv\\Lib\\site-packages\\selenium\\webdriver\\support\\expected_conditions.py:294\u001b[0m, in \u001b[0;36mframe_to_be_available_and_switch_to_it.<locals>._predicate\u001b[1;34m(driver)\u001b[0m\n\u001b[0;32m    292\u001b[0m \u001b[39mtry\u001b[39;00m:\n\u001b[0;32m    293\u001b[0m     \u001b[39mif\u001b[39;00m \u001b[39misinstance\u001b[39m(locator, Iterable) \u001b[39mand\u001b[39;00m \u001b[39mnot\u001b[39;00m \u001b[39misinstance\u001b[39m(locator, \u001b[39mstr\u001b[39m):\n\u001b[1;32m--> 294\u001b[0m         driver\u001b[39m.\u001b[39mswitch_to\u001b[39m.\u001b[39mframe(driver\u001b[39m.\u001b[39;49mfind_element(\u001b[39m*\u001b[39;49mlocator))\n\u001b[0;32m    295\u001b[0m     \u001b[39melse\u001b[39;00m:\n\u001b[0;32m    296\u001b[0m         driver\u001b[39m.\u001b[39mswitch_to\u001b[39m.\u001b[39mframe(locator)\n",
      "File \u001b[1;32mc:\\Users\\victo\\OneDrive\\Documentos\\github\\tcc-analise-setores-mercado-financeiro\\venv\\Lib\\site-packages\\selenium\\webdriver\\remote\\webdriver.py:741\u001b[0m, in \u001b[0;36mWebDriver.find_element\u001b[1;34m(self, by, value)\u001b[0m\n\u001b[0;32m    738\u001b[0m     by \u001b[39m=\u001b[39m By\u001b[39m.\u001b[39mCSS_SELECTOR\n\u001b[0;32m    739\u001b[0m     value \u001b[39m=\u001b[39m \u001b[39mf\u001b[39m\u001b[39m'\u001b[39m\u001b[39m[name=\u001b[39m\u001b[39m\"\u001b[39m\u001b[39m{\u001b[39;00mvalue\u001b[39m}\u001b[39;00m\u001b[39m\"\u001b[39m\u001b[39m]\u001b[39m\u001b[39m'\u001b[39m\n\u001b[1;32m--> 741\u001b[0m \u001b[39mreturn\u001b[39;00m \u001b[39mself\u001b[39;49m\u001b[39m.\u001b[39;49mexecute(Command\u001b[39m.\u001b[39;49mFIND_ELEMENT, {\u001b[39m\"\u001b[39;49m\u001b[39musing\u001b[39;49m\u001b[39m\"\u001b[39;49m: by, \u001b[39m\"\u001b[39;49m\u001b[39mvalue\u001b[39;49m\u001b[39m\"\u001b[39;49m: value})[\u001b[39m\"\u001b[39m\u001b[39mvalue\u001b[39m\u001b[39m\"\u001b[39m]\n",
      "File \u001b[1;32mc:\\Users\\victo\\OneDrive\\Documentos\\github\\tcc-analise-setores-mercado-financeiro\\venv\\Lib\\site-packages\\selenium\\webdriver\\remote\\webdriver.py:347\u001b[0m, in \u001b[0;36mWebDriver.execute\u001b[1;34m(self, driver_command, params)\u001b[0m\n\u001b[0;32m    345\u001b[0m response \u001b[39m=\u001b[39m \u001b[39mself\u001b[39m\u001b[39m.\u001b[39mcommand_executor\u001b[39m.\u001b[39mexecute(driver_command, params)\n\u001b[0;32m    346\u001b[0m \u001b[39mif\u001b[39;00m response:\n\u001b[1;32m--> 347\u001b[0m     \u001b[39mself\u001b[39;49m\u001b[39m.\u001b[39;49merror_handler\u001b[39m.\u001b[39;49mcheck_response(response)\n\u001b[0;32m    348\u001b[0m     response[\u001b[39m\"\u001b[39m\u001b[39mvalue\u001b[39m\u001b[39m\"\u001b[39m] \u001b[39m=\u001b[39m \u001b[39mself\u001b[39m\u001b[39m.\u001b[39m_unwrap_value(response\u001b[39m.\u001b[39mget(\u001b[39m\"\u001b[39m\u001b[39mvalue\u001b[39m\u001b[39m\"\u001b[39m, \u001b[39mNone\u001b[39;00m))\n\u001b[0;32m    349\u001b[0m     \u001b[39mreturn\u001b[39;00m response\n",
      "File \u001b[1;32mc:\\Users\\victo\\OneDrive\\Documentos\\github\\tcc-analise-setores-mercado-financeiro\\venv\\Lib\\site-packages\\selenium\\webdriver\\remote\\errorhandler.py:229\u001b[0m, in \u001b[0;36mErrorHandler.check_response\u001b[1;34m(self, response)\u001b[0m\n\u001b[0;32m    227\u001b[0m         alert_text \u001b[39m=\u001b[39m value[\u001b[39m\"\u001b[39m\u001b[39malert\u001b[39m\u001b[39m\"\u001b[39m]\u001b[39m.\u001b[39mget(\u001b[39m\"\u001b[39m\u001b[39mtext\u001b[39m\u001b[39m\"\u001b[39m)\n\u001b[0;32m    228\u001b[0m     \u001b[39mraise\u001b[39;00m exception_class(message, screen, stacktrace, alert_text)  \u001b[39m# type: ignore[call-arg]  # mypy is not smart enough here\u001b[39;00m\n\u001b[1;32m--> 229\u001b[0m \u001b[39mraise\u001b[39;00m exception_class(message, screen, stacktrace)\n",
      "\u001b[1;31mInvalidSelectorException\u001b[0m: Message: invalid selector: Unable to locate an element with the xpath expression /html/body/app-root/app-companies-classification/div'] because of the following error:\nSyntaxError: Failed to execute 'evaluate' on 'Document': The string '/html/body/app-root/app-companies-classification/div']' is not a valid XPath expression.\n  (Session info: chrome=119.0.6045.105); For documentation on this error, please visit: https://www.selenium.dev/documentation/webdriver/troubleshooting/errors#invalid-selector-exception\nStacktrace:\n\tGetHandleVerifier [0x00007FF6693E82B2+55298]\n\t(No symbol) [0x00007FF669355E02]\n\t(No symbol) [0x00007FF6692105AB]\n\t(No symbol) [0x00007FF66921509C]\n\t(No symbol) [0x00007FF669216FDF]\n\t(No symbol) [0x00007FF6692170D0]\n\t(No symbol) [0x00007FF6692513E4]\n\t(No symbol) [0x00007FF6692518DC]\n\t(No symbol) [0x00007FF66928CBC7]\n\t(No symbol) [0x00007FF6692720EF]\n\t(No symbol) [0x00007FF66928AAA4]\n\t(No symbol) [0x00007FF669271E83]\n\t(No symbol) [0x00007FF66924670A]\n\t(No symbol) [0x00007FF669247964]\n\tGetHandleVerifier [0x00007FF669760AAB+3694587]\n\tGetHandleVerifier [0x00007FF6697B728E+4048862]\n\tGetHandleVerifier [0x00007FF6697AF173+4015811]\n\tGetHandleVerifier [0x00007FF6694847D6+695590]\n\t(No symbol) [0x00007FF669360CE8]\n\t(No symbol) [0x00007FF66935CF34]\n\t(No symbol) [0x00007FF66935D062]\n\t(No symbol) [0x00007FF66934D3A3]\n\tBaseThreadInitThunk [0x00007FFC402C257D+29]\n\tRtlUserThreadStart [0x00007FFC4210AA58+40]\n"
     ]
    }
   ],
   "source": [
    "# abrindo o navegador\n",
    "driver = webdriver.Chrome(service=None)\n",
    "\n",
    "# acessando a url\n",
    "driver.get(url)\n",
    "\n",
    "# esperando pelo botão de aceitar coockies e clicando nele\n",
    "WebDriverWait(driver, 5).until(\n",
    "    EC.visibility_of_element_located(\n",
    "        (By.XPATH, \"//button[@id='onetrust-accept-btn-handler']\")\n",
    "        )).click()\n",
    "\n",
    "# esperando o carregamento do iframe e mudando o \n",
    "# induza WebDriverWait para que o elemento desejado seja clicável\n",
    "# WebDriverWait(driver, 5).until(\n",
    "#     EC.frame_to_be_available_and_switch_to_it(\n",
    "#         (By.XPATH,\"//iframe[@id='bvmf_iframe']\")))\n",
    "\n",
    "WebDriverWait(driver, 5).until(\n",
    "    EC.frame_to_be_available_and_switch_to_it(\n",
    "        (By.XPATH,\"/html/body/app-root/app-companies-classification/div']\")))\n",
    "\n",
    "\n",
    "# esperando pela caixa de seleção do número de itens exibidos na lista e clicando nela\n",
    "WebDriverWait(driver, 5).until(\n",
    "    EC.visibility_of_element_located(\n",
    "        (By.XPATH,\"/html/body/app-root/app-companies-classification/div/div/div/app-companies-home-filter-classification/form/div[1]/div/div/select\")\n",
    "        )).click()\n",
    "\n",
    "\n",
    "\n",
    "# Fechando o navegador\n",
    "# driver.quit()"
   ]
  },
  {
   "cell_type": "code",
   "execution_count": null,
   "metadata": {},
   "outputs": [],
   "source": []
  },
  {
   "cell_type": "code",
   "execution_count": null,
   "metadata": {},
   "outputs": [],
   "source": [
    "\n",
    "# # o elemento TODOS está dentro de um <iframe>, então:\n",
    "# # induza o WebDriver, espere até que o frame desejado esteja disponível e mude para ele;\n",
    "# # induza WebDriverWait para que o elemento desejado seja clicável\n",
    "# WebDriverWait(driver, 5).until(\n",
    "#     EC.frame_to_be_available_and_switch_to_it(\n",
    "#         (By.XPATH,\"//iframe[@id='bvmf_iframe']\")))\n",
    "\n",
    "# # esperando pelo botão TODOS e clicando nele\n",
    "# WebDriverWait(driver, 5).until(\n",
    "#     EC.visibility_of_element_located(\n",
    "#         (By.XPATH, \"//button[@aria-label='Buscar Todas']\"))).click()\n",
    "\n",
    "# # esperando pelo botão exibir como lista e clicando nele\n",
    "# WebDriverWait(driver, 5).until(\n",
    "#     EC.visibility_of_element_located(\n",
    "#         (By.XPATH, \"/html/body/app-root/app-companies-search/div/form/div[1]/div/div/div[2]/nav/div/a[2]\")\n",
    "#         )).click()\n",
    "\n",
    "# # esperando pela caixa de seleção do número de itens exibidos na lista e clicando nela\n",
    "# WebDriverWait(driver, 5).until(\n",
    "#     EC.visibility_of_element_located(\n",
    "#         (By.XPATH,\"/html/body/app-root/app-companies-search/div/form/div[3]/div[1]/select\")\n",
    "#         )).click()\n",
    "\n",
    "# # esperando pela abertura das opções da caixa de seleção do número \n",
    "# # de itens exibidos na lista e clicando na opção 120\n",
    "# WebDriverWait(driver, 5).until(\n",
    "#     EC.visibility_of_element_located(\n",
    "#         (By.XPATH,\"/html/body/app-root/app-companies-search/div/form/div[3]/div[1]/select/option[4]\")\n",
    "#         )).click()\n",
    "\n",
    "# # Espere até que algum elemento esteja visível ou alguma condição seja atendida\n",
    "# empresas = WebDriverWait(driver, 5).until(\n",
    "#     EC.presence_of_element_located(\n",
    "#         (By.XPATH,'/html/body/app-root/app-companies-search/div/form/div[2]/div[2]/table'))\n",
    "#         ).text"
   ]
  }
 ],
 "metadata": {
  "kernelspec": {
   "display_name": "venv",
   "language": "python",
   "name": "python3"
  },
  "language_info": {
   "codemirror_mode": {
    "name": "ipython",
    "version": 3
   },
   "file_extension": ".py",
   "mimetype": "text/x-python",
   "name": "python",
   "nbconvert_exporter": "python",
   "pygments_lexer": "ipython3",
   "version": "3.11.4"
  }
 },
 "nbformat": 4,
 "nbformat_minor": 2
}
